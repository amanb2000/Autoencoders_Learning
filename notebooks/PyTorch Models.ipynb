{
 "cells": [
  {
   "cell_type": "code",
   "execution_count": 1,
   "metadata": {},
   "outputs": [],
   "source": [
    "# Torch Dependencies\n",
    "import torch\n",
    "import torch.nn as nn\n",
    "import matplotlib.pyplot as plt\n",
    "import numpy as np\n",
    "from tqdm import tqdm\n",
    "from torch.autograd import Variable\n",
    "\n",
    "# Importing Other Dependencies\n",
    "import csv\n",
    "import random\n",
    "from PIL import Image\n",
    "import math\n",
    "import time\n",
    "from tqdm import tqdm\n",
    "import pickle\n",
    "import datetime"
   ]
  },
  {
   "cell_type": "code",
   "execution_count": 2,
   "metadata": {},
   "outputs": [],
   "source": [
    "# Function for showing image from vector form (4725 long numpy vector)\n",
    "def show_img_vec(img_vec):\n",
    "    img_vec_shaped = img_vec.reshape(45,35,3)\n",
    "    plt.imshow(img_vec_shaped)"
   ]
  },
  {
   "cell_type": "code",
   "execution_count": 3,
   "metadata": {},
   "outputs": [],
   "source": [
    "# Importing pickle - reduces time to import from .jpg from >3 hours to ~3 seconds.\n",
    "X_array = pickle.load( open( \"X_array.p\", \"rb\" ) )"
   ]
  },
  {
   "cell_type": "code",
   "execution_count": 4,
   "metadata": {},
   "outputs": [
    {
     "data": {
      "image/png": "[encoded data removed]",
      "text/plain": [
       "<Figure size 432x288 with 1 Axes>"
      ]
     },
     "metadata": {
      "needs_background": "light"
     },
     "output_type": "display_data"
    }
   ],
   "source": [
    "show_img_vec(X_array[200000])"
   ]
  },
  {
   "cell_type": "code",
   "execution_count": 5,
   "metadata": {},
   "outputs": [],
   "source": [
    "# Creating Model!\n",
    "# This will be a relatively un-advanced densely connected model that will reduce the size by\n",
    "    # factor of ~17 (to a 300-dimensional vector) and attempts to reconstruct it. \n",
    "\n",
    "class Autoencoder_One(nn.Module):\n",
    "    def __init__(self, input_size, hidden_size):\n",
    "        super(Autoencoder_One, self).__init__()\n",
    "        self.fc1 = nn.Linear(input_size, hidden_size)\n",
    "        self.relu1 = nn.ReLU()\n",
    "        self.fc2 = nn.Linear(hidden_size, input_size)\n",
    "        \n",
    "    def forward(self, x):\n",
    "        out = self.fc1(x)\n",
    "        out = self.relu1(out)\n",
    "        out = self.fc2(out)\n",
    "        return out\n",
    "    \n",
    "    def compress(self, x):\n",
    "        out = self.fc1(x)\n",
    "        return out"
   ]
  },
  {
   "cell_type": "code",
   "execution_count": 7,
   "metadata": {},
   "outputs": [],
   "source": [
    "learning_rate = 0.01\n",
    "num_epochs =  5000\n",
    "\n",
    "train_loss = []\n",
    "test_loss = []\n",
    "train_accuracy = []\n",
    "test_accuracy = []\n",
    "\n",
    "# Setting up data as tensor and Variable\n",
    "Tensor_X = torch.Tensor(X_array[0:2000])\n",
    "Variable_X = Variable(Tensor_X)\n",
    "\n",
    "# Setting up loss function\n",
    "loss_fn = nn.MSELoss()\n",
    "\n",
    "# Initializing model\n",
    "model_1 = Autoencoder_One(4725, 400)\n",
    "\n",
    "# Setting up optimizer\n",
    "optimizer = torch.optim.SGD(model_1.parameters(), lr=learning_rate, nesterov=True, momentum = 0.9, dampening = 0)"
   ]
  },
  {
   "cell_type": "code",
   "execution_count": null,
   "metadata": {},
   "outputs": [],
   "source": []
  },
  {
   "cell_type": "code",
   "execution_count": null,
   "metadata": {},
   "outputs": [
    {
     "name": "stdout",
     "output_type": "stream",
     "text": [
      "H\n",
      "==========0==========\n",
      "Loss:  18736.32421875\n",
      "2019-02-10 14:12:09.322895\n",
      "==========100==========\n",
      "Loss:  18440.943359375\n",
      "2019-02-10 14:12:30.820340\n",
      "==========200==========\n",
      "Loss:  18314.130859375\n",
      "2019-02-10 14:12:53.083827\n",
      "==========300==========\n",
      "Loss:  18188.36328125\n",
      "2019-02-10 14:13:15.405633\n",
      "==========400==========\n",
      "Loss:  18063.658203125\n",
      "2019-02-10 14:13:37.830892\n",
      "==========500==========\n",
      "Loss:  17940.00390625\n",
      "2019-02-10 14:14:00.425412\n",
      "==========600==========\n",
      "Loss:  17817.390625\n",
      "2019-02-10 14:14:22.815926\n",
      "==========700==========\n",
      "Loss:  17695.814453125\n",
      "2019-02-10 14:14:45.553770\n",
      "==========800==========\n",
      "Loss:  17575.26171875\n",
      "2019-02-10 14:15:08.719215\n",
      "==========900==========\n",
      "Loss:  17455.7265625\n",
      "2019-02-10 14:15:35.674108\n",
      "==========1000==========\n",
      "Loss:  17337.197265625\n",
      "2019-02-10 14:16:04.065335\n",
      "==========1100==========\n",
      "Loss:  17219.669921875\n",
      "2019-02-10 14:16:33.364173\n",
      "==========1200==========\n",
      "Loss:  17103.1328125\n",
      "2019-02-10 14:17:02.526555\n",
      "==========1300==========\n",
      "Loss:  16987.578125\n",
      "2019-02-10 14:17:31.607394\n"
     ]
    }
   ],
   "source": [
    "print(\"H\")\n",
    "for epoch in range(num_epochs):\n",
    "    model_1.train()\n",
    "    optimizer.zero_grad()\n",
    "\n",
    "    Pred_X = model_1(Variable_X)\n",
    "    loss = loss_fn(Pred_X, Variable_X)\n",
    "    loss.backward()\n",
    "    optimizer.step()\n",
    "\n",
    "    model_1.eval()\n",
    "    train_loss.append(float(loss.data))\n",
    "\n",
    "\n",
    "#     test_results = test_model(simple_rick, testor_y, testor_X, tensor_y, tensor_X)\n",
    "\n",
    "#     train_accuracy.append(test_results[1])\n",
    "#     test_accuracy.append(test_results[0])\n",
    "\n",
    "    if epoch % 100 == 0:\n",
    "        print(\"==========\"+str(epoch)+\"==========\")\n",
    "        print(\"Loss: \",float(loss))\n",
    "        print(datetime.datetime.now())\n",
    "#         print(\"Test Accuracy: \",test_results[0])\n",
    "#         print(\"Train Accuracy: \",test_results[1])\n",
    "#         out_vec = model_1(Tensor_X[0])\n",
    "#         out_vec = out_vec.detach().numpy()\n",
    "#         show_img_vec(out_vec)"
   ]
  },
  {
   "cell_type": "code",
   "execution_count": null,
   "metadata": {},
   "outputs": [],
   "source": [
    "out_vec = model_1(Tensor_X[3])\n",
    "out_vec = out_vec.data.numpy()\n",
    "show_img_vec(out_vec)"
   ]
  },
  {
   "cell_type": "code",
   "execution_count": null,
   "metadata": {},
   "outputs": [],
   "source": []
  }
 ],
 "metadata": {
  "kernelspec": {
   "display_name": "Python 3",
   "language": "python",
   "name": "python3"
  },
  "language_info": {
   "codemirror_mode": {
    "name": "ipython",
    "version": 3
   },
   "file_extension": ".py",
   "mimetype": "text/x-python",
   "name": "python",
   "nbconvert_exporter": "python",
   "pygments_lexer": "ipython3",
   "version": "3.7.1"
  }
 },
 "nbformat": 4,
 "nbformat_minor": 2
}
