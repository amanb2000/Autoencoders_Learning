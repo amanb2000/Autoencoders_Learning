{
 "cells": [
  {
   "cell_type": "code",
   "execution_count": 77,
   "metadata": {},
   "outputs": [],
   "source": [
    "# Torch Dependencies\n",
    "import torch\n",
    "import torch.nn as nn\n",
    "import matplotlib.pyplot as plt\n",
    "import numpy as np\n",
    "from tqdm import tqdm\n",
    "from torch.autograd import Variable\n",
    "\n",
    "# Importing Other Dependencies\n",
    "import csv\n",
    "import random\n",
    "from PIL import Image\n",
    "import math\n",
    "import time\n",
    "from tqdm import tqdm\n",
    "import pickle\n",
    "import datetime"
   ]
  },
  {
   "cell_type": "code",
   "execution_count": 78,
   "metadata": {},
   "outputs": [],
   "source": [
    "# Function for showing image from vector form (4725 long numpy vector)\n",
    "def show_img_vec(img_vec):\n",
    "    img_vec_shaped = img_vec.reshape(45,35,3)\n",
    "    plt.imshow(img_vec_shaped)"
   ]
  },
  {
   "cell_type": "code",
   "execution_count": 79,
   "metadata": {},
   "outputs": [],
   "source": [
    "# Importing pickle - reduces time to import from .jpg from >3 hours to ~3 seconds.\n",
    "    # The pickle is of type numpy array (202600 x 4725)\n",
    "X_array = pickle.load( open( \"X_array.p\", \"rb\" ) )"
   ]
  },
  {
   "cell_type": "code",
   "execution_count": 80,
   "metadata": {},
   "outputs": [
    {
     "data": {
      "image/png": "[encoded data removed]",
      "text/plain": [
       "<Figure size 432x288 with 1 Axes>"
      ]
     },
     "metadata": {
      "needs_background": "light"
     },
     "output_type": "display_data"
    }
   ],
   "source": [
    "# show_img_vec(X_array[200000])\n",
    "X_array.shape\n",
    "\n",
    "test_torch_tensor = torch.from_numpy(X_array[200000])\n",
    "show_img_vec(test_torch_tensor.numpy())"
   ]
  },
  {
   "cell_type": "code",
   "execution_count": 81,
   "metadata": {},
   "outputs": [],
   "source": [
    "# Creating Model!\n",
    "# This will be a relatively un-advanced densely connected model that will reduce the size by\n",
    "    # factor of ~17 (to a 300-dimensional vector) and attempts to reconstruct it. \n",
    "\n",
    "class Autoencoder_One(nn.Module):\n",
    "    def __init__(self, input_size, hidden_size):\n",
    "        super(Autoencoder_One, self).__init__()\n",
    "        self.fc1 = nn.Linear(input_size, hidden_size)\n",
    "        self.relu1 = nn.ReLU()\n",
    "        self.fc2 = nn.Linear(hidden_size, input_size)\n",
    "        \n",
    "    def forward(self, x):\n",
    "        out = self.fc1(x)\n",
    "        out = self.relu1(out)\n",
    "        out = self.fc2(out)\n",
    "        return out\n",
    "    \n",
    "    def compress(self, x):\n",
    "        out = self.fc1(x)\n",
    "        return out"
   ]
  },
  {
   "cell_type": "code",
   "execution_count": 93,
   "metadata": {},
   "outputs": [
    {
     "name": "stdout",
     "output_type": "stream",
     "text": [
      "tensor([[252, 239, 207,  ..., 243, 170, 132],\n",
      "        [252, 239, 207,  ..., 243, 170, 132],\n",
      "        [ 38,  27,  26,  ...,  56,  36,  28],\n",
      "        ...,\n",
      "        [254, 245, 228,  ...,   4,   5,   7],\n",
      "        [  1,   1,   1,  ..., 175, 153, 103],\n",
      "        [123, 123, 125,  ..., 187, 105,  39]], dtype=torch.int32)\n"
     ]
    },
    {
     "data": {
      "image/png": "[encoded data removed]",
      "text/plain": [
       "<Figure size 432x288 with 1 Axes>"
      ]
     },
     "metadata": {
      "needs_background": "light"
     },
     "output_type": "display_data"
    }
   ],
   "source": [
    "learning_rate = 0.001\n",
    "num_epochs =  500\n",
    "\n",
    "train_loss = []\n",
    "test_loss = []\n",
    "train_accuracy = []\n",
    "test_accuracy = []\n",
    "\n",
    "# Setting up data as tensor and Variable\n",
    "Tensor_X = torch.from_numpy(X_array[0:1000]).int()\n",
    "print(Tensor_X)\n",
    "Variable_X = Variable(Tensor_X)\n",
    "\n",
    "# Setting up loss function\n",
    "loss_fn = nn.MSELoss()\n",
    "\n",
    "# Initializing model\n",
    "model_1 = Autoencoder_One(4725, 400)\n",
    "\n",
    "# Setting up optimizer\n",
    "optimizer = torch.optim.SGD(model_1.parameters(), lr=learning_rate, nesterov=True, momentum = 0.9, dampening = 0)\n",
    "\n",
    "# Testing Tensor_X\n",
    "show_img_vec( (Variable_X.data).numpy()[2] )"
   ]
  },
  {
   "cell_type": "code",
   "execution_count": null,
   "metadata": {},
   "outputs": [],
   "source": []
  },
  {
   "cell_type": "code",
   "execution_count": 83,
   "metadata": {},
   "outputs": [
    {
     "name": "stdout",
     "output_type": "stream",
     "text": [
      "H\n",
      "==========0==========\n",
      "Loss:  18676.244140625\n",
      "2019-02-10 22:26:33.107209\n",
      "==========100==========\n",
      "Loss:  17785.822265625\n",
      "2019-02-10 22:26:43.696141\n",
      "==========200==========\n",
      "Loss:  17773.638671875\n",
      "2019-02-10 22:26:54.820161\n",
      "==========300==========\n",
      "Loss:  17761.462890625\n",
      "2019-02-10 22:27:06.177164\n",
      "==========400==========\n",
      "Loss:  17749.30078125\n",
      "2019-02-10 22:27:17.722178\n"
     ]
    }
   ],
   "source": [
    "print(\"H\")\n",
    "for epoch in range(num_epochs):\n",
    "    model_1.train()\n",
    "    optimizer.zero_grad()\n",
    "    Pred_X = model_1(Variable_X)\n",
    "    loss = loss_fn(Pred_X, Variable_X)\n",
    "    loss.backward()\n",
    "    optimizer.step()\n",
    "\n",
    "    model_1.eval()\n",
    "    train_loss.append(float(loss.data))\n",
    "\n",
    "\n",
    "#     test_results = test_model(simple_rick, testor_y, testor_X, tensor_y, tensor_X)\n",
    "\n",
    "#     train_accuracy.append(test_results[1])\n",
    "#     test_accuracy.append(test_results[0])\n",
    "\n",
    "    if epoch % 100 == 0:\n",
    "        print(\"==========\"+str(epoch)+\"==========\")\n",
    "        print(\"Loss: \",float(loss))\n",
    "        print(datetime.datetime.now())\n",
    "#         print(\"Test Accuracy: \",test_results[0])\n",
    "#         print(\"Train Accuracy: \",test_results[1])\n",
    "#         out_vec = model_1(Tensor_X[0])\n",
    "#         out_vec = out_vec.detach().numpy()\n",
    "#         show_img_vec(out_vec)"
   ]
  },
  {
   "cell_type": "code",
   "execution_count": 85,
   "metadata": {},
   "outputs": [
    {
     "name": "stderr",
     "output_type": "stream",
     "text": [
      "Clipping input data to the valid range for imshow with RGB data ([0..1] for floats or [0..255] for integers).\n"
     ]
    },
    {
     "name": "stdout",
     "output_type": "stream",
     "text": [
      "tensor([0.4105, 0.3488, 0.2826,  ..., 0.2760, 0.1402, 0.2505])\n",
      "tensor([ 52.,  26.,  13.,  ..., 168., 193., 190.])\n",
      "tensor(3447.1177)\n"
     ]
    },
    {
     "data": {
      "image/png": "[encoded data removed]",
      "text/plain": [
       "<Figure size 432x288 with 1 Axes>"
      ]
     },
     "metadata": {
      "needs_background": "light"
     },
     "output_type": "display_data"
    }
   ],
   "source": [
    "face_num = 300\n",
    "\n",
    "out_vec = model_1(Tensor_X[face_num])\n",
    "out_vec = out_vec.data\n",
    "print(out_vec)\n",
    "print(Tensor_X[face_num])\n",
    "\n",
    "\n",
    "out_vec = (out_vec.numpy())\n",
    "\n",
    "out_vec *= 0.3\n",
    "\n",
    "out_vec.shape\n",
    "\n",
    "print(loss_fn(torch.from_numpy(out_vec), Tensor_X[face_num]))\n",
    "\n",
    "show_img_vec((Tensor_X[face_num]).numpy())\n",
    "\n",
    "\n",
    "# test_torch_tensor = torch.from_numpy(X_array[200000])\n",
    "# show_img_vec(test_torch_tensor.numpy())"
   ]
  },
  {
   "cell_type": "code",
   "execution_count": null,
   "metadata": {},
   "outputs": [],
   "source": []
  }
 ],
 "metadata": {
  "kernelspec": {
   "display_name": "Python 3",
   "language": "python",
   "name": "python3"
  },
  "language_info": {
   "codemirror_mode": {
    "name": "ipython",
    "version": 3
   },
   "file_extension": ".py",
   "mimetype": "text/x-python",
   "name": "python",
   "nbconvert_exporter": "python",
   "pygments_lexer": "ipython3",
   "version": "3.7.1"
  }
 },
 "nbformat": 4,
 "nbformat_minor": 2
}
