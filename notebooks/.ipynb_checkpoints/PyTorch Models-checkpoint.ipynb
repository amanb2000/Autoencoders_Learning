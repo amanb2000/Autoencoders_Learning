{
 "cells": [
  {
   "cell_type": "code",
   "execution_count": 123,
   "metadata": {},
   "outputs": [],
   "source": [
    "# Torch Dependencies\n",
    "import torch\n",
    "import torch.nn as nn\n",
    "import matplotlib.pyplot as plt\n",
    "import numpy as np\n",
    "from tqdm import tqdm\n",
    "from torch.autograd import Variable\n",
    "\n",
    "# Importing Other Dependencies\n",
    "import csv\n",
    "import random\n",
    "from PIL import Image\n",
    "import math\n",
    "import time\n",
    "from tqdm import tqdm\n",
    "import pickle\n",
    "import datetime"
   ]
  },
  {
   "cell_type": "code",
   "execution_count": 124,
   "metadata": {},
   "outputs": [],
   "source": [
    "# Function for showing image from vector form (4725 long numpy vector)\n",
    "def show_img_vec(img_vec):\n",
    "    img_vec_shaped = img_vec.reshape(45,35,3)\n",
    "    plt.imshow(img_vec_shaped)"
   ]
  },
  {
   "cell_type": "code",
   "execution_count": 125,
   "metadata": {},
   "outputs": [],
   "source": [
    "# Importing pickle - reduces time to import from .jpg from >3 hours to ~3 seconds.\n",
    "    # The pickle is of type numpy array (202600 x 4725)\n",
    "X_array = pickle.load( open( \"X_array.p\", \"rb\" ) )"
   ]
  },
  {
   "cell_type": "code",
   "execution_count": 126,
   "metadata": {},
   "outputs": [
    {
     "data": {
      "image/png": "[encoded data removed]",
      "text/plain": [
       "<Figure size 432x288 with 1 Axes>"
      ]
     },
     "metadata": {
      "needs_background": "light"
     },
     "output_type": "display_data"
    }
   ],
   "source": [
    "# show_img_vec(X_array[200000])\n",
    "X_array.shape\n",
    "\n",
    "test_torch_tensor = torch.from_numpy(X_array[200000])\n",
    "show_img_vec(test_torch_tensor.numpy())"
   ]
  },
  {
   "cell_type": "code",
   "execution_count": null,
   "metadata": {},
   "outputs": [],
   "source": [
    "# Creating Model!\n",
    "# This will be a relatively un-advanced densely connected model that will reduce the size by\n",
    "    # factor of ~17 (to a 300-dimensional vector) and attempts to reconstruct it. \n",
    "\n",
    "class Autoencoder_One(nn.Module):\n",
    "    def __init__(self, input_size, hidden_2_size, hidden_size):\n",
    "        super(Autoencoder_One, self).__init__()\n",
    "        self.fc1 = nn.Linear(input_size, hidden_2_size)\n",
    "        self.relu1 = nn.ReLU()\n",
    "        self.fc2 = nn.Linear(hidden_2_size, hidden_size)\n",
    "        self.relu2 = nn.ReLU()\n",
    "        self.fc3 = nn.Linear(hidden_size, hidden_2_size)\n",
    "        self.relu3 = nn.ReLU()\n",
    "        self.fc4 = nn.Linear(hidden_2_size, input_size)\n",
    "        self.sig4 = nn.Sigmoid()\n",
    "        \n",
    "    def forward(self, x):\n",
    "        out = self.fc1(x)\n",
    "        out = self.relu1(out)\n",
    "        out = self.fc2(out)\n",
    "        out = self.relu2(out)\n",
    "        out = self.fc3(out)\n",
    "        out = self.relu3(out)\n",
    "        out = self.fc4(out)\n",
    "#         out = self.sig4(out)\n",
    "#         out = out * 255\n",
    "        \n",
    "        return out\n",
    "    \n",
    "    def compress(self, x):\n",
    "        out = self.fc1(x)\n",
    "        out = self.relu1(out)\n",
    "        out = self.fc2(out)\n",
    "        return out"
   ]
  },
  {
   "cell_type": "code",
   "execution_count": null,
   "metadata": {},
   "outputs": [
    {
     "name": "stdout",
     "output_type": "stream",
     "text": [
      "tensor([[252., 239., 207.,  ..., 243., 170., 132.],\n",
      "        [252., 239., 207.,  ..., 243., 170., 132.],\n",
      "        [ 38.,  27.,  26.,  ...,  56.,  36.,  28.],\n",
      "        ...,\n",
      "        [ 87.,  75.,  66.,  ..., 183., 158., 129.],\n",
      "        [ 34.,  15.,  17.,  ...,  12.,  10.,  28.],\n",
      "        [  9.,   6.,   3.,  ..., 189., 185., 181.]])\n"
     ]
    },
    {
     "data": {
      "image/png": "[encoded data removed]",
      "text/plain": [
       "<Figure size 432x288 with 1 Axes>"
      ]
     },
     "metadata": {
      "needs_background": "light"
     },
     "output_type": "display_data"
    }
   ],
   "source": [
    "learning_rate = 0.001\n",
    "num_epochs =  5\n",
    "\n",
    "train_loss = []\n",
    "test_loss = []\n",
    "train_accuracy = []\n",
    "test_accuracy = []\n",
    "\n",
    "# Setting up data as tensor and Variable\n",
    "Tensor_X = torch.from_numpy(X_array[0:2000]).float()\n",
    "print(Tensor_X)\n",
    "Variable_X = Variable(Tensor_X)\n",
    "\n",
    "# Setting up loss function\n",
    "loss_fn = nn.MSELoss()\n",
    "\n",
    "# Initializing model\n",
    "model_1 = Autoencoder_One(4725, 2700, 400)\n",
    "\n",
    "# Setting up optimizer\n",
    "optimizer = torch.optim.SGD(model_1.parameters(), lr=learning_rate, nesterov=True, momentum = 0.9, dampening = 0)\n",
    "\n",
    "# Testing Tensor_X\n",
    "show_img_vec( (Tensor_X[1].int()).numpy() )"
   ]
  },
  {
   "cell_type": "code",
   "execution_count": null,
   "metadata": {},
   "outputs": [],
   "source": []
  },
  {
   "cell_type": "code",
   "execution_count": null,
   "metadata": {},
   "outputs": [
    {
     "name": "stdout",
     "output_type": "stream",
     "text": [
      "H\n",
      "==========0==========\n",
      "Loss:  15923.2529296875\n",
      "2019-02-11 04:40:35.579017\n"
     ]
    }
   ],
   "source": [
    "print(\"H\")\n",
    "for epoch in range(num_epochs):\n",
    "    model_1.train()\n",
    "    optimizer.zero_grad()\n",
    "    Pred_X = model_1(Variable_X)\n",
    "    loss = loss_fn(Pred_X, Variable_X)\n",
    "    loss.backward()\n",
    "    optimizer.step()\n",
    "\n",
    "    model_1.eval()\n",
    "    train_loss.append(float(loss.data))\n",
    "\n",
    "\n",
    "#     test_results = test_model(simple_rick, testor_y, testor_X, tensor_y, tensor_X)\n",
    "\n",
    "#     train_accuracy.append(test_results[1])\n",
    "#     test_accuracy.append(test_results[0])\n",
    "\n",
    "    if epoch % 1 == 0:\n",
    "        print(\"==========\"+str(epoch)+\"==========\")\n",
    "        print(\"Loss: \",float(loss))\n",
    "        print(datetime.datetime.now())\n",
    "#         print(\"Test Accuracy: \",test_results[0])\n",
    "#         print(\"Train Accuracy: \",test_results[1])\n",
    "#         out_vec = model_1(Tensor_X[0])\n",
    "#         out_vec = out_vec.detach().numpy()\n",
    "#         show_img_vec(out_vec)"
   ]
  },
  {
   "cell_type": "code",
   "execution_count": null,
   "metadata": {},
   "outputs": [],
   "source": [
    "face_num = 33\n",
    "\n",
    "out_vec = model_1(Variable(Tensor_X[face_num]))\n",
    "out_vec = model_1(Tensor_X[face_num])\n",
    "# print(out_vec)\n",
    "print(Tensor_X[face_num])\n",
    "# out_vec *= 10\n",
    "out_vec = out_vec.detach().int().numpy()\n",
    "print(out_vec)\n",
    "\n",
    "# print(loss_fn(torch.from_numpy(out_vec), Tensor_X[face_num]))\n",
    "show_img_vec( out_vec )"
   ]
  },
  {
   "cell_type": "code",
   "execution_count": null,
   "metadata": {},
   "outputs": [],
   "source": []
  }
 ],
 "metadata": {
  "kernelspec": {
   "display_name": "Python 3",
   "language": "python",
   "name": "python3"
  },
  "language_info": {
   "codemirror_mode": {
    "name": "ipython",
    "version": 3
   },
   "file_extension": ".py",
   "mimetype": "text/x-python",
   "name": "python",
   "nbconvert_exporter": "python",
   "pygments_lexer": "ipython3",
   "version": "3.7.1"
  }
 },
 "nbformat": 4,
 "nbformat_minor": 2
}
